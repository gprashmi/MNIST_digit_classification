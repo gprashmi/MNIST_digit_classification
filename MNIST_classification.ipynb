{
 "cells": [
  {
   "cell_type": "code",
   "execution_count": null,
   "metadata": {
    "colab": {},
    "colab_type": "code",
    "id": "oHCMVhY6qnWb"
   },
   "outputs": [],
   "source": [
    "#import the libraries\n",
    "import numpy as np\n",
    "import matplotlib.pyplot as plt\n",
    "from sklearn.metrics import confusion_matrix, classification_report\n",
    "import keras\n",
    "from keras.datasets.mnist import load_data\n",
    "from keras.utils import to_categorical\n",
    "from keras.models import Sequential\n",
    "from keras.layers.core import Dense, Dropout, Activation, Flatten\n",
    "from keras import layers"
   ]
  },
  {
   "cell_type": "code",
   "execution_count": null,
   "metadata": {
    "colab": {
     "base_uri": "https://localhost:8080/",
     "height": 85
    },
    "colab_type": "code",
    "id": "XFIW3b-ZqnWj",
    "outputId": "a79ee5c0-948a-4b1d-e593-5aaa2518b6a4"
   },
   "outputs": [
    {
     "name": "stdout",
     "output_type": "stream",
     "text": [
      "Downloading data from https://storage.googleapis.com/tensorflow/tf-keras-datasets/mnist.npz\n",
      "11493376/11490434 [==============================] - 0s 0us/step\n",
      "Shape of X_train: (60000, 28, 28)\n",
      "Shape of y_train: (60000,)\n"
     ]
    }
   ],
   "source": [
    "#load the data\n",
    "(X_train, y_train), (X_test, y_test) = load_data()\n",
    "\n",
    "#check the input data\n",
    "print(\"Shape of X_train:\",X_train.shape)\n",
    "print(\"Shape of y_train:\",y_train.shape)"
   ]
  },
  {
   "cell_type": "code",
   "execution_count": null,
   "metadata": {
    "colab": {
     "base_uri": "https://localhost:8080/",
     "height": 68
    },
    "colab_type": "code",
    "id": "Utv0Ixr1qnWs",
    "outputId": "7a59b8ca-c4ad-47ba-f404-4767dddf8b61"
   },
   "outputs": [
    {
     "name": "stdout",
     "output_type": "stream",
     "text": [
      "No. of labels: 10\n",
      "Train label count: {0: 5923, 1: 6742, 2: 5958, 3: 6131, 4: 5842, 5: 5421, 6: 5918, 7: 6265, 8: 5851, 9: 5949}\n",
      "Test label count: {0: 980, 1: 1135, 2: 1032, 3: 1010, 4: 982, 5: 892, 6: 958, 7: 1028, 8: 974, 9: 1009}\n"
     ]
    }
   ],
   "source": [
    "#check for the count and no. of labels in the dataset\n",
    "train_label, label_freq = np.unique(y_train, return_counts = True)\n",
    "test_label, test_freq = np.unique(y_test, return_counts = True)\n",
    "\n",
    "print(\"No. of labels:\", len(np.unique(y_train)))\n",
    "print(\"Train label count:\", dict(zip(train_label, label_freq)))\n",
    "print(\"Test label count:\", dict(zip(test_label, test_freq)))"
   ]
  },
  {
   "cell_type": "code",
   "execution_count": null,
   "metadata": {
    "colab": {
     "base_uri": "https://localhost:8080/",
     "height": 191
    },
    "colab_type": "code",
    "id": "z0n46EY9qnWv",
    "outputId": "17d94ae5-d237-4bd6-dc38-1de55d1d72ce"
   },
   "outputs": [
    {
     "data": {
      "image/png": "[encoded data removed]",
      "text/plain": [
       "<Figure size 432x288 with 6 Axes>"
      ]
     },
     "metadata": {
      "needs_background": "light",
      "tags": []
     },
     "output_type": "display_data"
    }
   ],
   "source": [
    "#plot sample train images\n",
    "fig = plt.figure()\n",
    "for i in range(6):\n",
    "    ax = fig.add_subplot(331 + i)\n",
    "    ax.imshow(X_train[i])\n",
    "    \n",
    "plt.show()"
   ]
  },
  {
   "cell_type": "code",
   "execution_count": null,
   "metadata": {
    "colab": {},
    "colab_type": "code",
    "id": "wlBVjVzdqnW3"
   },
   "outputs": [],
   "source": [
    "#convert to gray scale by normalizing the data to range [0,1]\n",
    "X_train = X_train.astype(\"float32\")/255\n",
    "X_test = X_test.astype(\"float32\")/255\n",
    "\n",
    "#include the gray scale channel in input shape\n",
    "input_shape = (28,28,1)\n",
    "\n",
    "#define the number of target classes\n",
    "tar_class = 10\n",
    "\n",
    "#reshape the input data\n",
    "X_train = np.expand_dims(X_train, axis = -1)\n",
    "X_test = np.expand_dims(X_test, axis = -1)\n",
    "\n",
    "#one hot encode the target class\n",
    "y_train = to_categorical(y_train, tar_class)\n",
    "y_test = to_categorical(y_test, tar_class)"
   ]
  },
  {
   "cell_type": "code",
   "execution_count": null,
   "metadata": {
    "colab": {
     "base_uri": "https://localhost:8080/",
     "height": 85
    },
    "colab_type": "code",
    "id": "MLdkvgpOqnW_",
    "outputId": "2c806ae6-c106-4158-fa82-85030e001765"
   },
   "outputs": [
    {
     "name": "stdout",
     "output_type": "stream",
     "text": [
      "Shape of X_train: (60000, 28, 28, 1)\n",
      "Shape of y_train: (60000, 10)\n",
      "Shape of X_test: (10000, 28, 28, 1)\n",
      "Shape of y_test: (10000, 10)\n"
     ]
    }
   ],
   "source": [
    "#split the data into train and validation \n",
    "#X_train, X_val, y_train, y_val = train_test_split(X_train,y_train,test_size = 0.2)\n",
    "\n",
    "#check the shape train, validation and test data\n",
    "print(\"Shape of X_train:\",X_train.shape)\n",
    "print(\"Shape of y_train:\",y_train.shape)\n",
    "#print(\"Shape of X_val:\",X_val.shape)\n",
    "#print(\"Shape of y_val:\",y_val.shape)\n",
    "print(\"Shape of X_test:\",X_test.shape)\n",
    "print(\"Shape of y_test:\",y_test.shape)"
   ]
  },
  {
   "cell_type": "code",
   "execution_count": null,
   "metadata": {
    "colab": {
     "base_uri": "https://localhost:8080/",
     "height": 425
    },
    "colab_type": "code",
    "id": "57wAqcW6qnXP",
    "outputId": "72e700f8-0144-41b4-e42d-772124cc3f5b"
   },
   "outputs": [
    {
     "name": "stdout",
     "output_type": "stream",
     "text": [
      "Model: \"sequential\"\n",
      "_________________________________________________________________\n",
      "Layer (type)                 Output Shape              Param #   \n",
      "=================================================================\n",
      "dense (Dense)                (None, 28, 28, 512)       1024      \n",
      "_________________________________________________________________\n",
      "dense_1 (Dense)              (None, 28, 28, 256)       131328    \n",
      "_________________________________________________________________\n",
      "dropout (Dropout)            (None, 28, 28, 256)       0         \n",
      "_________________________________________________________________\n",
      "dense_2 (Dense)              (None, 28, 28, 128)       32896     \n",
      "_________________________________________________________________\n",
      "dense_3 (Dense)              (None, 28, 28, 64)        8256      \n",
      "_________________________________________________________________\n",
      "dropout_1 (Dropout)          (None, 28, 28, 64)        0         \n",
      "_________________________________________________________________\n",
      "flatten (Flatten)            (None, 50176)             0         \n",
      "_________________________________________________________________\n",
      "dense_4 (Dense)              (None, 10)                501770    \n",
      "=================================================================\n",
      "Total params: 675,274\n",
      "Trainable params: 675,274\n",
      "Non-trainable params: 0\n",
      "_________________________________________________________________\n"
     ]
    }
   ],
   "source": [
    "#define the model layers\n",
    "model = Sequential()\n",
    "model.add(Dense(512, input_shape = input_shape, activation = \"relu\"))\n",
    "model.add(Dense(256, activation = \"relu\"))\n",
    "model.add(Dropout(0.1))\n",
    "model.add(Dense(128, activation = \"relu\"))\n",
    "model.add(Dense(64, activation = \"relu\"))\n",
    "model.add(Dropout(0.1))\n",
    "model.add(Flatten())\n",
    "model.add(Dense(tar_class, activation = \"softmax\"))\n",
    "\n",
    "model.compile(optimizer = \"adam\",\n",
    "              loss = 'categorical_crossentropy',\n",
    "               metrics = ['accuracy'])\n",
    "\n",
    "model.summary()"
   ]
  },
  {
   "cell_type": "code",
   "execution_count": null,
   "metadata": {
    "colab": {
     "base_uri": "https://localhost:8080/",
     "height": 357
    },
    "colab_type": "code",
    "id": "AQIerSRMqnXY",
    "outputId": "c4ade82a-e374-48a3-b99f-3156b786ca50"
   },
   "outputs": [
    {
     "name": "stdout",
     "output_type": "stream",
     "text": [
      "Epoch 1/10\n",
      "1688/1688 [==============================] - 35s 21ms/step - loss: 0.3697 - accuracy: 0.8956 - val_loss: 0.2561 - val_accuracy: 0.9313\n",
      "Epoch 2/10\n",
      "1688/1688 [==============================] - 34s 20ms/step - loss: 0.3069 - accuracy: 0.9139 - val_loss: 0.2447 - val_accuracy: 0.9325\n",
      "Epoch 3/10\n",
      "1688/1688 [==============================] - 34s 20ms/step - loss: 0.2817 - accuracy: 0.9202 - val_loss: 0.2347 - val_accuracy: 0.9310\n",
      "Epoch 4/10\n",
      "1688/1688 [==============================] - 35s 21ms/step - loss: 0.2497 - accuracy: 0.9284 - val_loss: 0.2264 - val_accuracy: 0.9357\n",
      "Epoch 5/10\n",
      "1688/1688 [==============================] - 34s 20ms/step - loss: 0.2302 - accuracy: 0.9335 - val_loss: 0.2266 - val_accuracy: 0.9375\n",
      "Epoch 6/10\n",
      "1688/1688 [==============================] - 34s 20ms/step - loss: 0.2159 - accuracy: 0.9382 - val_loss: 0.2103 - val_accuracy: 0.9405\n",
      "Epoch 7/10\n",
      "1688/1688 [==============================] - 34s 20ms/step - loss: 0.2026 - accuracy: 0.9414 - val_loss: 0.2155 - val_accuracy: 0.9395\n",
      "Epoch 8/10\n",
      "1688/1688 [==============================] - 34s 20ms/step - loss: 0.1918 - accuracy: 0.9430 - val_loss: 0.2295 - val_accuracy: 0.9352\n",
      "Epoch 9/10\n",
      "1688/1688 [==============================] - 34s 20ms/step - loss: 0.1809 - accuracy: 0.9476 - val_loss: 0.2362 - val_accuracy: 0.9362\n",
      "Epoch 10/10\n",
      "1688/1688 [==============================] - 34s 20ms/step - loss: 0.1696 - accuracy: 0.9490 - val_loss: 0.2398 - val_accuracy: 0.9337\n"
     ]
    }
   ],
   "source": [
    "#train the model for 10 epochs, batch size of 32\n",
    "history = model.fit(X_train, y_train,\n",
    "                        epochs = 10,\n",
    "                        verbose = True,\n",
    "                        validation_split = 0.1,\n",
    "                        batch_size = 32)"
   ]
  },
  {
   "cell_type": "code",
   "execution_count": null,
   "metadata": {
    "colab": {
     "base_uri": "https://localhost:8080/",
     "height": 295
    },
    "colab_type": "code",
    "id": "F6JUBo_OqnXi",
    "outputId": "66079280-fd99-4bc4-b518-290d0bdbfea3"
   },
   "outputs": [
    {
     "data": {
      "image/png": "[encoded data removed]",
      "text/plain": [
       "<Figure size 432x288 with 1 Axes>"
      ]
     },
     "metadata": {
      "needs_background": "light",
      "tags": []
     },
     "output_type": "display_data"
    }
   ],
   "source": [
    "# summarize history for accuracy\n",
    "plt.plot(history.history['accuracy'])\n",
    "plt.plot(history.history['val_accuracy'])\n",
    "plt.title('model accuracy')\n",
    "plt.ylabel('accuracy')\n",
    "plt.xlabel('epoch')\n",
    "plt.legend(['train', 'test'], loc='upper left')\n",
    "plt.show()"
   ]
  },
  {
   "cell_type": "code",
   "execution_count": null,
   "metadata": {
    "colab": {
     "base_uri": "https://localhost:8080/",
     "height": 295
    },
    "colab_type": "code",
    "id": "jp9azPSNsaPl",
    "outputId": "0d215e46-7f82-4121-9c9a-4b752ca8819d"
   },
   "outputs": [
    {
     "data": {
      "image/png": "[encoded data removed]",
      "text/plain": [
       "<Figure size 432x288 with 1 Axes>"
      ]
     },
     "metadata": {
      "needs_background": "light",
      "tags": []
     },
     "output_type": "display_data"
    }
   ],
   "source": [
    "# summarize history for loss\n",
    "plt.plot(history.history['loss'])\n",
    "plt.plot(history.history['val_loss'])\n",
    "plt.title('model loss')\n",
    "plt.ylabel('loss')\n",
    "plt.xlabel('epoch')\n",
    "plt.legend(['train', 'test'], loc='upper left')\n",
    "plt.show()"
   ]
  },
  {
   "cell_type": "code",
   "execution_count": null,
   "metadata": {
    "colab": {},
    "colab_type": "code",
    "id": "38D8HOQZsmxv"
   },
   "outputs": [],
   "source": []
  }
 ],
 "metadata": {
  "accelerator": "GPU",
  "colab": {
   "collapsed_sections": [],
   "name": "DL_HW1_ANN.ipynb",
   "provenance": []
  },
  "kernelspec": {
   "display_name": "Python 3",
   "language": "python",
   "name": "python3"
  },
  "language_info": {
   "codemirror_mode": {
    "name": "ipython",
    "version": 3
   },
   "file_extension": ".py",
   "mimetype": "text/x-python",
   "name": "python",
   "nbconvert_exporter": "python",
   "pygments_lexer": "ipython3",
   "version": "3.7.2"
  }
 },
 "nbformat": 4,
 "nbformat_minor": 1
}
